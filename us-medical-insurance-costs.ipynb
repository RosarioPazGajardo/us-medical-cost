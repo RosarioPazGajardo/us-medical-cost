{
 "cells": [
  {
   "cell_type": "markdown",
   "metadata": {},
   "source": [
    "# U.S. Medical Insurance Costs"
   ]
  },
  {
   "cell_type": "code",
   "execution_count": 46,
   "metadata": {},
   "outputs": [],
   "source": [
    "import csv\n",
    "import pandas as pd\n",
    "\n",
    "\n",
    "# df = pd.read_csv(\"insurance.csv\")\n",
    "# print(df)\n",
    "\n",
    "insurance_data_dict = []\n",
    "with open(\"insurance.csv\", newline='') as insurance_data:\n",
    "    data = csv.DictReader(insurance_data)\n",
    "    for row in data:\n",
    "        data_row = row\n",
    "        insurance_data_dict.append(data_row)\n",
    "    \n",
    "# print(insurance_data_dict)    \n"
   ]
  },
  {
   "cell_type": "code",
   "execution_count": 63,
   "metadata": {},
   "outputs": [],
   "source": [
    "def percentage_difference(average_1, average2):\n",
    "    absolute_diference = abs(average_1 - average2)\n",
    "    average = (average_1 + average2) / 2\n",
    "    percentage_difference = (absolute_diference / average) * 100\n",
    "    return int(percentage_difference)"
   ]
  },
  {
   "cell_type": "code",
   "execution_count": 48,
   "metadata": {},
   "outputs": [],
   "source": [
    "def average_insurance_cost(data_set):\n",
    "    total_cost = 0\n",
    "    for row in data_set:\n",
    "        total_cost += float(row['charges'])\n",
    "\n",
    "    average = total_cost / len(data_set)\n",
    "    return int(average)"
   ]
  },
  {
   "cell_type": "code",
   "execution_count": 47,
   "metadata": {},
   "outputs": [
    {
     "name": "stdout",
     "output_type": "stream",
     "text": [
      "The most expensive charge for insurance cost is: 63770.42801\n"
     ]
    }
   ],
   "source": [
    "\n",
    "most_expensive = 0\n",
    "for row in insurance_data_dict:\n",
    "    if float(row['charges']) > most_expensive:\n",
    "        most_expensive = float(row['charges'])\n",
    "print('The most expensive charge for insurance cost is: '+ str(most_expensive))\n"
   ]
  },
  {
   "cell_type": "code",
   "execution_count": 49,
   "metadata": {},
   "outputs": [
    {
     "name": "stdout",
     "output_type": "stream",
     "text": [
      "The average insurance cost for women in the US is: $ 12569\n"
     ]
    }
   ],
   "source": [
    "\n",
    "women_cases_list = []\n",
    "for row in insurance_data_dict:\n",
    "    if row['sex'] == \"female\":\n",
    "        women_cases_list.append(row)\n",
    "    else:\n",
    "        continue\n",
    "average_women_insurance = average_insurance_cost(women_cases_list)\n",
    "print('The average insurance cost for women in the US is: $ ' + str(average_women_insurance))\n"
   ]
  },
  {
   "cell_type": "code",
   "execution_count": 50,
   "metadata": {},
   "outputs": [
    {
     "name": "stdout",
     "output_type": "stream",
     "text": [
      "The average insurance cost for men in the US is: $13956\n"
     ]
    }
   ],
   "source": [
    "men_cases_list = []\n",
    "for row in insurance_data_dict:\n",
    "    if row['sex'] == \"male\":\n",
    "        men_cases_list.append(row)\n",
    "    else:\n",
    "        continue\n",
    "average_men_insurance = average_insurance_cost(men_cases_list)\n",
    "print('The average insurance cost for men in the US is: $' + str(average_men_insurance))"
   ]
  },
  {
   "cell_type": "code",
   "execution_count": 51,
   "metadata": {},
   "outputs": [
    {
     "name": "stdout",
     "output_type": "stream",
     "text": [
      "The average insurance cost for smoker in the US is: $32050\n"
     ]
    }
   ],
   "source": [
    "smoker_case_list = []\n",
    "for row in insurance_data_dict:\n",
    "    if row['smoker'] == \"yes\":\n",
    "        smoker_case_list.append(row)\n",
    "    else:\n",
    "        continue\n",
    "average_smoker_insurance = average_insurance_cost(smoker_case_list)\n",
    "print('The average insurance cost for smoker in the US is: $' + str(average_smoker_insurance))"
   ]
  },
  {
   "cell_type": "code",
   "execution_count": 52,
   "metadata": {},
   "outputs": [
    {
     "name": "stdout",
     "output_type": "stream",
     "text": [
      "The average insurance cost for smoker in the US is: $8434\n"
     ]
    }
   ],
   "source": [
    "no_smoker_case_list = []\n",
    "for row in insurance_data_dict:\n",
    "    if row['smoker'] == \"no\":\n",
    "        no_smoker_case_list.append(row)\n",
    "    else:\n",
    "        continue\n",
    "average_no_smoker_insurance = average_insurance_cost(no_smoker_case_list)\n",
    "print('The average insurance cost for smoker in the US is: $' + str(average_no_smoker_insurance))"
   ]
  },
  {
   "cell_type": "code",
   "execution_count": 55,
   "metadata": {},
   "outputs": [
    {
     "name": "stdout",
     "output_type": "stream",
     "text": [
      "The average difference between a smoker and a non-smoker insurance cost is: $23616\n"
     ]
    }
   ],
   "source": [
    "difference = average_smoker_insurance - average_no_smoker_insurance\n",
    "print('The average difference between a smoker and a non-smoker insurance cost is: $' + str(difference))"
   ]
  },
  {
   "cell_type": "code",
   "execution_count": 57,
   "metadata": {},
   "outputs": [
    {
     "name": "stdout",
     "output_type": "stream",
     "text": [
      "The average insurance cost for people with at least 1 children in the US is: $13949\n"
     ]
    }
   ],
   "source": [
    "have_children_case_list = []\n",
    "for row in insurance_data_dict:\n",
    "    if int(row['children']) > 0:\n",
    "        have_children_case_list.append(row)\n",
    "    else:\n",
    "        continue\n",
    "average_have_children_cost = average_insurance_cost(have_children_case_list)\n",
    "print('The average insurance cost for people with at least 1 children in the US is: $' + str(average_have_children_cost))"
   ]
  },
  {
   "cell_type": "code",
   "execution_count": 59,
   "metadata": {},
   "outputs": [
    {
     "name": "stdout",
     "output_type": "stream",
     "text": [
      "The average insurance cost for people with no children in the US is: $12365\n"
     ]
    }
   ],
   "source": [
    "no_children_case_list = []\n",
    "for row in insurance_data_dict:\n",
    "    if int(row['children']) == 0:\n",
    "        no_children_case_list.append(row)\n",
    "    else:\n",
    "        continue\n",
    "average_no_children_cost = average_insurance_cost(no_children_case_list)\n",
    "print('The average insurance cost for people with no children in the US is: $' + str(average_no_children_cost))"
   ]
  },
  {
   "cell_type": "code",
   "execution_count": 66,
   "metadata": {},
   "outputs": [
    {
     "name": "stdout",
     "output_type": "stream",
     "text": [
      "The difference between insurance cost for people with children and people with no children is: 12%\n"
     ]
    }
   ],
   "source": [
    "percentage_difference_children = percentage_difference(average_have_children_cost, average_no_children_cost)\n",
    "print('The difference between insurance cost for people with children and people with no children is: ' + str(percentage_difference_children) +'%')"
   ]
  },
  {
   "cell_type": "code",
   "execution_count": 94,
   "metadata": {},
   "outputs": [
    {
     "name": "stdout",
     "output_type": "stream",
     "text": [
      "Data count per region\n",
      "southwest: 1\n",
      "southeast: 2\n",
      "northwest: 5\n",
      "northeast: 1330\n"
     ]
    }
   ],
   "source": [
    "data_by_area = {}\n",
    "\n",
    "for row in insurance_data_dict:\n",
    "    if row['region'] not in data_by_area.keys():\n",
    "        region = row['region']\n",
    "        data_by_area[region] = []\n",
    "        data_by_area[region].append(row)\n",
    "    else:\n",
    "        data_by_area[region].append(row)\n",
    "\n",
    "def count_per_region(data_set,region):\n",
    "    count = len(data_by_area[region])\n",
    "    print(region + ': ' + str(count))\n",
    "\n",
    "regions = []\n",
    "for region in data_by_area.keys():\n",
    "    regions.append(region)\n",
    "\n",
    "print(\"Data count per region\")\n",
    "for i in regions:\n",
    "    count_per_region(data_by_area,i)\n",
    "    \n"
   ]
  }
 ],
 "metadata": {
  "kernelspec": {
   "display_name": ".venv",
   "language": "python",
   "name": "python3"
  },
  "language_info": {
   "codemirror_mode": {
    "name": "ipython",
    "version": 3
   },
   "file_extension": ".py",
   "mimetype": "text/x-python",
   "name": "python",
   "nbconvert_exporter": "python",
   "pygments_lexer": "ipython3",
   "version": "3.11.5"
  }
 },
 "nbformat": 4,
 "nbformat_minor": 4
}
